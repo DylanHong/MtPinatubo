{
 "cells": [
  {
   "cell_type": "code",
   "execution_count": 206,
   "metadata": {},
   "outputs": [],
   "source": [
    "import numpy as np\n",
    "import pandas as pd\n",
    "import matplotlib.pyplot as plt\n",
    "import datetime as dt\n",
    "import seaborn as sns\n",
    "sns.set(style=\"darkgrid\")"
   ]
  },
  {
   "cell_type": "code",
   "execution_count": 51,
   "metadata": {},
   "outputs": [
    {
     "data": {
      "text/html": [
       "<div>\n",
       "<style scoped>\n",
       "    .dataframe tbody tr th:only-of-type {\n",
       "        vertical-align: middle;\n",
       "    }\n",
       "\n",
       "    .dataframe tbody tr th {\n",
       "        vertical-align: top;\n",
       "    }\n",
       "\n",
       "    .dataframe thead th {\n",
       "        text-align: right;\n",
       "    }\n",
       "</style>\n",
       "<table border=\"1\" class=\"dataframe\">\n",
       "  <thead>\n",
       "    <tr style=\"text-align: right;\">\n",
       "      <th></th>\n",
       "      <th>time</th>\n",
       "      <th>latitude</th>\n",
       "      <th>longitude</th>\n",
       "      <th>depth</th>\n",
       "      <th>mag</th>\n",
       "      <th>magType</th>\n",
       "      <th>nst</th>\n",
       "      <th>gap</th>\n",
       "      <th>dmin</th>\n",
       "      <th>rms</th>\n",
       "      <th>...</th>\n",
       "      <th>updated</th>\n",
       "      <th>place</th>\n",
       "      <th>type</th>\n",
       "      <th>horizontalError</th>\n",
       "      <th>depthError</th>\n",
       "      <th>magError</th>\n",
       "      <th>magNst</th>\n",
       "      <th>status</th>\n",
       "      <th>locationSource</th>\n",
       "      <th>magSource</th>\n",
       "    </tr>\n",
       "  </thead>\n",
       "  <tbody>\n",
       "    <tr>\n",
       "      <th>0</th>\n",
       "      <td>2019-04-26T23:20:43.982Z</td>\n",
       "      <td>15.5760</td>\n",
       "      <td>119.3247</td>\n",
       "      <td>10.00</td>\n",
       "      <td>4.6</td>\n",
       "      <td>mb</td>\n",
       "      <td>NaN</td>\n",
       "      <td>102.0</td>\n",
       "      <td>7.391</td>\n",
       "      <td>0.71</td>\n",
       "      <td>...</td>\n",
       "      <td>2019-04-27T00:13:43.040Z</td>\n",
       "      <td>61km WSW of Bolitoc, Philippines</td>\n",
       "      <td>earthquake</td>\n",
       "      <td>9.8</td>\n",
       "      <td>1.9</td>\n",
       "      <td>0.053</td>\n",
       "      <td>106.0</td>\n",
       "      <td>reviewed</td>\n",
       "      <td>us</td>\n",
       "      <td>us</td>\n",
       "    </tr>\n",
       "    <tr>\n",
       "      <th>1</th>\n",
       "      <td>2019-04-26T23:14:09.859Z</td>\n",
       "      <td>15.5718</td>\n",
       "      <td>119.1792</td>\n",
       "      <td>10.00</td>\n",
       "      <td>4.4</td>\n",
       "      <td>mb</td>\n",
       "      <td>NaN</td>\n",
       "      <td>100.0</td>\n",
       "      <td>9.905</td>\n",
       "      <td>0.59</td>\n",
       "      <td>...</td>\n",
       "      <td>2019-05-10T23:15:56.040Z</td>\n",
       "      <td>76km SW of Ilioilio, Philippines</td>\n",
       "      <td>earthquake</td>\n",
       "      <td>11.0</td>\n",
       "      <td>1.8</td>\n",
       "      <td>0.066</td>\n",
       "      <td>67.0</td>\n",
       "      <td>reviewed</td>\n",
       "      <td>us</td>\n",
       "      <td>us</td>\n",
       "    </tr>\n",
       "    <tr>\n",
       "      <th>2</th>\n",
       "      <td>2019-04-23T18:02:59.987Z</td>\n",
       "      <td>14.9108</td>\n",
       "      <td>120.5743</td>\n",
       "      <td>53.44</td>\n",
       "      <td>4.7</td>\n",
       "      <td>mb</td>\n",
       "      <td>NaN</td>\n",
       "      <td>118.0</td>\n",
       "      <td>7.879</td>\n",
       "      <td>0.75</td>\n",
       "      <td>...</td>\n",
       "      <td>2019-04-24T16:10:44.505Z</td>\n",
       "      <td>1km ESE of Santa Cruz, Philippines</td>\n",
       "      <td>earthquake</td>\n",
       "      <td>9.1</td>\n",
       "      <td>7.5</td>\n",
       "      <td>0.046</td>\n",
       "      <td>144.0</td>\n",
       "      <td>reviewed</td>\n",
       "      <td>us</td>\n",
       "      <td>us</td>\n",
       "    </tr>\n",
       "    <tr>\n",
       "      <th>3</th>\n",
       "      <td>2019-04-22T15:38:40.496Z</td>\n",
       "      <td>13.7277</td>\n",
       "      <td>120.9237</td>\n",
       "      <td>142.31</td>\n",
       "      <td>4.3</td>\n",
       "      <td>mb</td>\n",
       "      <td>NaN</td>\n",
       "      <td>145.0</td>\n",
       "      <td>14.129</td>\n",
       "      <td>0.46</td>\n",
       "      <td>...</td>\n",
       "      <td>2019-05-05T15:26:59.040Z</td>\n",
       "      <td>1km SW of Talaga, Philippines</td>\n",
       "      <td>earthquake</td>\n",
       "      <td>21.9</td>\n",
       "      <td>11.6</td>\n",
       "      <td>0.169</td>\n",
       "      <td>10.0</td>\n",
       "      <td>reviewed</td>\n",
       "      <td>us</td>\n",
       "      <td>us</td>\n",
       "    </tr>\n",
       "    <tr>\n",
       "      <th>4</th>\n",
       "      <td>2019-04-22T09:11:11.751Z</td>\n",
       "      <td>14.9566</td>\n",
       "      <td>120.5121</td>\n",
       "      <td>20.00</td>\n",
       "      <td>6.1</td>\n",
       "      <td>mww</td>\n",
       "      <td>NaN</td>\n",
       "      <td>20.0</td>\n",
       "      <td>0.943</td>\n",
       "      <td>1.04</td>\n",
       "      <td>...</td>\n",
       "      <td>2019-05-22T13:15:42.040Z</td>\n",
       "      <td>0km ESE of Gutad, Philippines</td>\n",
       "      <td>earthquake</td>\n",
       "      <td>5.9</td>\n",
       "      <td>1.8</td>\n",
       "      <td>0.035</td>\n",
       "      <td>77.0</td>\n",
       "      <td>reviewed</td>\n",
       "      <td>us</td>\n",
       "      <td>us</td>\n",
       "    </tr>\n",
       "  </tbody>\n",
       "</table>\n",
       "<p>5 rows × 22 columns</p>\n",
       "</div>"
      ],
      "text/plain": [
       "                       time  latitude  longitude   depth  mag magType  nst  \\\n",
       "0  2019-04-26T23:20:43.982Z   15.5760   119.3247   10.00  4.6      mb  NaN   \n",
       "1  2019-04-26T23:14:09.859Z   15.5718   119.1792   10.00  4.4      mb  NaN   \n",
       "2  2019-04-23T18:02:59.987Z   14.9108   120.5743   53.44  4.7      mb  NaN   \n",
       "3  2019-04-22T15:38:40.496Z   13.7277   120.9237  142.31  4.3      mb  NaN   \n",
       "4  2019-04-22T09:11:11.751Z   14.9566   120.5121   20.00  6.1     mww  NaN   \n",
       "\n",
       "     gap    dmin   rms  ...                   updated  \\\n",
       "0  102.0   7.391  0.71  ...  2019-04-27T00:13:43.040Z   \n",
       "1  100.0   9.905  0.59  ...  2019-05-10T23:15:56.040Z   \n",
       "2  118.0   7.879  0.75  ...  2019-04-24T16:10:44.505Z   \n",
       "3  145.0  14.129  0.46  ...  2019-05-05T15:26:59.040Z   \n",
       "4   20.0   0.943  1.04  ...  2019-05-22T13:15:42.040Z   \n",
       "\n",
       "                                place        type horizontalError depthError  \\\n",
       "0    61km WSW of Bolitoc, Philippines  earthquake             9.8        1.9   \n",
       "1    76km SW of Ilioilio, Philippines  earthquake            11.0        1.8   \n",
       "2  1km ESE of Santa Cruz, Philippines  earthquake             9.1        7.5   \n",
       "3       1km SW of Talaga, Philippines  earthquake            21.9       11.6   \n",
       "4       0km ESE of Gutad, Philippines  earthquake             5.9        1.8   \n",
       "\n",
       "   magError  magNst    status  locationSource magSource  \n",
       "0     0.053   106.0  reviewed              us        us  \n",
       "1     0.066    67.0  reviewed              us        us  \n",
       "2     0.046   144.0  reviewed              us        us  \n",
       "3     0.169    10.0  reviewed              us        us  \n",
       "4     0.035    77.0  reviewed              us        us  \n",
       "\n",
       "[5 rows x 22 columns]"
      ]
     },
     "execution_count": 51,
     "metadata": {},
     "output_type": "execute_result"
    }
   ],
   "source": [
    "df = pd.read_csv('EarthquakeData.csv')\n",
    "df.head()"
   ]
  },
  {
   "cell_type": "code",
   "execution_count": 52,
   "metadata": {},
   "outputs": [
    {
     "name": "stdout",
     "output_type": "stream",
     "text": [
      "['time', 'latitude', 'longitude', 'depth', 'mag', 'magType', 'nst', 'gap', 'dmin', 'rms', 'net', 'id', 'updated', 'place', 'type', 'horizontalError', 'depthError', 'magError', 'magNst', 'status', 'locationSource', 'magSource']\n"
     ]
    }
   ],
   "source": [
    "print(list(df.columns))"
   ]
  },
  {
   "cell_type": "code",
   "execution_count": 53,
   "metadata": {},
   "outputs": [
    {
     "data": {
      "text/html": [
       "<div>\n",
       "<style scoped>\n",
       "    .dataframe tbody tr th:only-of-type {\n",
       "        vertical-align: middle;\n",
       "    }\n",
       "\n",
       "    .dataframe tbody tr th {\n",
       "        vertical-align: top;\n",
       "    }\n",
       "\n",
       "    .dataframe thead th {\n",
       "        text-align: right;\n",
       "    }\n",
       "</style>\n",
       "<table border=\"1\" class=\"dataframe\">\n",
       "  <thead>\n",
       "    <tr style=\"text-align: right;\">\n",
       "      <th></th>\n",
       "      <th>time</th>\n",
       "      <th>latitude</th>\n",
       "      <th>longitude</th>\n",
       "      <th>depth</th>\n",
       "      <th>mag</th>\n",
       "      <th>place</th>\n",
       "    </tr>\n",
       "  </thead>\n",
       "  <tbody>\n",
       "    <tr>\n",
       "      <th>0</th>\n",
       "      <td>2019-04-26T23:20:43.982Z</td>\n",
       "      <td>15.5760</td>\n",
       "      <td>119.3247</td>\n",
       "      <td>10.00</td>\n",
       "      <td>4.6</td>\n",
       "      <td>61km WSW of Bolitoc, Philippines</td>\n",
       "    </tr>\n",
       "    <tr>\n",
       "      <th>1</th>\n",
       "      <td>2019-04-26T23:14:09.859Z</td>\n",
       "      <td>15.5718</td>\n",
       "      <td>119.1792</td>\n",
       "      <td>10.00</td>\n",
       "      <td>4.4</td>\n",
       "      <td>76km SW of Ilioilio, Philippines</td>\n",
       "    </tr>\n",
       "    <tr>\n",
       "      <th>2</th>\n",
       "      <td>2019-04-23T18:02:59.987Z</td>\n",
       "      <td>14.9108</td>\n",
       "      <td>120.5743</td>\n",
       "      <td>53.44</td>\n",
       "      <td>4.7</td>\n",
       "      <td>1km ESE of Santa Cruz, Philippines</td>\n",
       "    </tr>\n",
       "    <tr>\n",
       "      <th>3</th>\n",
       "      <td>2019-04-22T15:38:40.496Z</td>\n",
       "      <td>13.7277</td>\n",
       "      <td>120.9237</td>\n",
       "      <td>142.31</td>\n",
       "      <td>4.3</td>\n",
       "      <td>1km SW of Talaga, Philippines</td>\n",
       "    </tr>\n",
       "    <tr>\n",
       "      <th>4</th>\n",
       "      <td>2019-04-22T09:11:11.751Z</td>\n",
       "      <td>14.9566</td>\n",
       "      <td>120.5121</td>\n",
       "      <td>20.00</td>\n",
       "      <td>6.1</td>\n",
       "      <td>0km ESE of Gutad, Philippines</td>\n",
       "    </tr>\n",
       "  </tbody>\n",
       "</table>\n",
       "</div>"
      ],
      "text/plain": [
       "                       time  latitude  longitude   depth  mag  \\\n",
       "0  2019-04-26T23:20:43.982Z   15.5760   119.3247   10.00  4.6   \n",
       "1  2019-04-26T23:14:09.859Z   15.5718   119.1792   10.00  4.4   \n",
       "2  2019-04-23T18:02:59.987Z   14.9108   120.5743   53.44  4.7   \n",
       "3  2019-04-22T15:38:40.496Z   13.7277   120.9237  142.31  4.3   \n",
       "4  2019-04-22T09:11:11.751Z   14.9566   120.5121   20.00  6.1   \n",
       "\n",
       "                                place  \n",
       "0    61km WSW of Bolitoc, Philippines  \n",
       "1    76km SW of Ilioilio, Philippines  \n",
       "2  1km ESE of Santa Cruz, Philippines  \n",
       "3       1km SW of Talaga, Philippines  \n",
       "4       0km ESE of Gutad, Philippines  "
      ]
     },
     "execution_count": 53,
     "metadata": {},
     "output_type": "execute_result"
    }
   ],
   "source": [
    "df = df.loc[:,:'place']\n",
    "df.drop(columns = ['nst','gap','dmin','rms','net','id','updated','magType'],inplace=True)\n",
    "df.head()"
   ]
  },
  {
   "cell_type": "code",
   "execution_count": 108,
   "metadata": {},
   "outputs": [
    {
     "name": "stdout",
     "output_type": "stream",
     "text": [
      "<class 'pandas.core.frame.DataFrame'>\n",
      "Int64Index: 1778 entries, 0 to 1969\n",
      "Data columns (total 6 columns):\n",
      "time         1778 non-null datetime64[ns, UTC]\n",
      "latitude     1778 non-null float64\n",
      "longitude    1778 non-null float64\n",
      "depth        1778 non-null float64\n",
      "mag          1778 non-null float64\n",
      "place        1778 non-null object\n",
      "dtypes: datetime64[ns, UTC](1), float64(4), object(1)\n",
      "memory usage: 97.2+ KB\n"
     ]
    }
   ],
   "source": [
    "df['time'] = pd.to_datetime(df['time'],utc = False)\n",
    "df.info()"
   ]
  },
  {
   "cell_type": "code",
   "execution_count": 105,
   "metadata": {},
   "outputs": [
    {
     "data": {
      "text/plain": [
       "<matplotlib.collections.PathCollection at 0x124b22710>"
      ]
     },
     "execution_count": 105,
     "metadata": {},
     "output_type": "execute_result"
    },
    {
     "data": {
      "image/png": "[encoded data removed]",
      "text/plain": [
       "<Figure size 432x288 with 1 Axes>"
      ]
     },
     "metadata": {
      "needs_background": "light"
     },
     "output_type": "display_data"
    }
   ],
   "source": [
    "plt.scatter(df['time'],df['mag'])"
   ]
  },
  {
   "cell_type": "code",
   "execution_count": 106,
   "metadata": {},
   "outputs": [
    {
     "name": "stdout",
     "output_type": "stream",
     "text": [
      "<class 'pandas.core.frame.DataFrame'>\n",
      "Int64Index: 1778 entries, 0 to 1969\n",
      "Data columns (total 6 columns):\n",
      "time         1778 non-null datetime64[ns, UTC]\n",
      "latitude     1778 non-null float64\n",
      "longitude    1778 non-null float64\n",
      "depth        1778 non-null float64\n",
      "mag          1778 non-null float64\n",
      "place        1778 non-null object\n",
      "dtypes: datetime64[ns, UTC](1), float64(4), object(1)\n",
      "memory usage: 97.2+ KB\n"
     ]
    }
   ],
   "source": [
    "df = df.query('mag > 0')\n",
    "df.info()"
   ]
  },
  {
   "cell_type": "code",
   "execution_count": 102,
   "metadata": {},
   "outputs": [
    {
     "data": {
      "text/plain": [
       "<matplotlib.collections.PathCollection at 0x12427f240>"
      ]
     },
     "execution_count": 102,
     "metadata": {},
     "output_type": "execute_result"
    },
    {
     "data": {
      "image/png": "[encoded data removed]",
      "text/plain": [
       "<Figure size 432x288 with 1 Axes>"
      ]
     },
     "metadata": {
      "needs_background": "light"
     },
     "output_type": "display_data"
    }
   ],
   "source": [
    "plt.scatter(df['time'],df['mag'],s = 5)"
   ]
  },
  {
   "cell_type": "code",
   "execution_count": 203,
   "metadata": {},
   "outputs": [
    {
     "name": "stdout",
     "output_type": "stream",
     "text": [
      "1990-06-01 00:00:00+00:00\n"
     ]
    },
    {
     "data": {
      "text/html": [
       "<div>\n",
       "<style scoped>\n",
       "    .dataframe tbody tr th:only-of-type {\n",
       "        vertical-align: middle;\n",
       "    }\n",
       "\n",
       "    .dataframe tbody tr th {\n",
       "        vertical-align: top;\n",
       "    }\n",
       "\n",
       "    .dataframe thead th {\n",
       "        text-align: right;\n",
       "    }\n",
       "</style>\n",
       "<table border=\"1\" class=\"dataframe\">\n",
       "  <thead>\n",
       "    <tr style=\"text-align: right;\">\n",
       "      <th></th>\n",
       "      <th>time</th>\n",
       "      <th>latitude</th>\n",
       "      <th>longitude</th>\n",
       "      <th>depth</th>\n",
       "      <th>mag</th>\n",
       "      <th>place</th>\n",
       "    </tr>\n",
       "  </thead>\n",
       "  <tbody>\n",
       "    <tr>\n",
       "      <th>1315</th>\n",
       "      <td>1991-06-19 03:06:42.850000+00:00</td>\n",
       "      <td>15.001</td>\n",
       "      <td>120.034</td>\n",
       "      <td>10.0</td>\n",
       "      <td>4.4</td>\n",
       "      <td>Luzon, Philippines</td>\n",
       "    </tr>\n",
       "    <tr>\n",
       "      <th>1316</th>\n",
       "      <td>1991-06-18 20:17:48.520000+00:00</td>\n",
       "      <td>15.231</td>\n",
       "      <td>120.293</td>\n",
       "      <td>10.0</td>\n",
       "      <td>4.8</td>\n",
       "      <td>Luzon, Philippines</td>\n",
       "    </tr>\n",
       "    <tr>\n",
       "      <th>1317</th>\n",
       "      <td>1991-06-18 03:20:25.310000+00:00</td>\n",
       "      <td>15.219</td>\n",
       "      <td>120.322</td>\n",
       "      <td>10.0</td>\n",
       "      <td>4.9</td>\n",
       "      <td>Luzon, Philippines</td>\n",
       "    </tr>\n",
       "    <tr>\n",
       "      <th>1318</th>\n",
       "      <td>1991-06-17 23:10:02.850000+00:00</td>\n",
       "      <td>15.203</td>\n",
       "      <td>120.393</td>\n",
       "      <td>10.0</td>\n",
       "      <td>4.2</td>\n",
       "      <td>Luzon, Philippines</td>\n",
       "    </tr>\n",
       "    <tr>\n",
       "      <th>1319</th>\n",
       "      <td>1991-06-17 17:14:42.380000+00:00</td>\n",
       "      <td>15.615</td>\n",
       "      <td>120.479</td>\n",
       "      <td>10.0</td>\n",
       "      <td>4.4</td>\n",
       "      <td>Luzon, Philippines</td>\n",
       "    </tr>\n",
       "    <tr>\n",
       "      <th>1320</th>\n",
       "      <td>1991-06-17 16:37:52.820000+00:00</td>\n",
       "      <td>15.193</td>\n",
       "      <td>120.250</td>\n",
       "      <td>10.0</td>\n",
       "      <td>4.6</td>\n",
       "      <td>Luzon, Philippines</td>\n",
       "    </tr>\n",
       "    <tr>\n",
       "      <th>1321</th>\n",
       "      <td>1991-06-17 15:33:01.700000+00:00</td>\n",
       "      <td>15.211</td>\n",
       "      <td>120.340</td>\n",
       "      <td>10.0</td>\n",
       "      <td>4.8</td>\n",
       "      <td>Luzon, Philippines</td>\n",
       "    </tr>\n",
       "    <tr>\n",
       "      <th>1322</th>\n",
       "      <td>1991-06-17 03:02:39.870000+00:00</td>\n",
       "      <td>15.322</td>\n",
       "      <td>120.817</td>\n",
       "      <td>10.0</td>\n",
       "      <td>4.1</td>\n",
       "      <td>Luzon, Philippines</td>\n",
       "    </tr>\n",
       "    <tr>\n",
       "      <th>1323</th>\n",
       "      <td>1991-06-16 20:40:40.570000+00:00</td>\n",
       "      <td>15.170</td>\n",
       "      <td>120.323</td>\n",
       "      <td>10.0</td>\n",
       "      <td>5.2</td>\n",
       "      <td>Luzon, Philippines</td>\n",
       "    </tr>\n",
       "    <tr>\n",
       "      <th>1324</th>\n",
       "      <td>1991-06-16 20:37:20.310000+00:00</td>\n",
       "      <td>15.080</td>\n",
       "      <td>120.585</td>\n",
       "      <td>10.0</td>\n",
       "      <td>5.5</td>\n",
       "      <td>Luzon, Philippines</td>\n",
       "    </tr>\n",
       "    <tr>\n",
       "      <th>1325</th>\n",
       "      <td>1991-06-16 20:36:53.350000+00:00</td>\n",
       "      <td>15.234</td>\n",
       "      <td>120.291</td>\n",
       "      <td>10.0</td>\n",
       "      <td>5.0</td>\n",
       "      <td>Luzon, Philippines</td>\n",
       "    </tr>\n",
       "    <tr>\n",
       "      <th>1326</th>\n",
       "      <td>1991-06-16 13:26:44.090000+00:00</td>\n",
       "      <td>15.030</td>\n",
       "      <td>120.223</td>\n",
       "      <td>12.6</td>\n",
       "      <td>5.0</td>\n",
       "      <td>Luzon, Philippines</td>\n",
       "    </tr>\n",
       "    <tr>\n",
       "      <th>1327</th>\n",
       "      <td>1991-06-16 09:51:09.020000+00:00</td>\n",
       "      <td>15.177</td>\n",
       "      <td>120.355</td>\n",
       "      <td>15.0</td>\n",
       "      <td>5.0</td>\n",
       "      <td>Luzon, Philippines</td>\n",
       "    </tr>\n",
       "    <tr>\n",
       "      <th>1328</th>\n",
       "      <td>1991-06-16 06:58:21.910000+00:00</td>\n",
       "      <td>15.250</td>\n",
       "      <td>120.591</td>\n",
       "      <td>12.6</td>\n",
       "      <td>5.1</td>\n",
       "      <td>Luzon, Philippines</td>\n",
       "    </tr>\n",
       "    <tr>\n",
       "      <th>1329</th>\n",
       "      <td>1991-06-16 04:30:03.840000+00:00</td>\n",
       "      <td>15.285</td>\n",
       "      <td>120.188</td>\n",
       "      <td>10.0</td>\n",
       "      <td>4.4</td>\n",
       "      <td>Luzon, Philippines</td>\n",
       "    </tr>\n",
       "  </tbody>\n",
       "</table>\n",
       "</div>"
      ],
      "text/plain": [
       "                                 time  latitude  longitude  depth  mag  \\\n",
       "1315 1991-06-19 03:06:42.850000+00:00    15.001    120.034   10.0  4.4   \n",
       "1316 1991-06-18 20:17:48.520000+00:00    15.231    120.293   10.0  4.8   \n",
       "1317 1991-06-18 03:20:25.310000+00:00    15.219    120.322   10.0  4.9   \n",
       "1318 1991-06-17 23:10:02.850000+00:00    15.203    120.393   10.0  4.2   \n",
       "1319 1991-06-17 17:14:42.380000+00:00    15.615    120.479   10.0  4.4   \n",
       "1320 1991-06-17 16:37:52.820000+00:00    15.193    120.250   10.0  4.6   \n",
       "1321 1991-06-17 15:33:01.700000+00:00    15.211    120.340   10.0  4.8   \n",
       "1322 1991-06-17 03:02:39.870000+00:00    15.322    120.817   10.0  4.1   \n",
       "1323 1991-06-16 20:40:40.570000+00:00    15.170    120.323   10.0  5.2   \n",
       "1324 1991-06-16 20:37:20.310000+00:00    15.080    120.585   10.0  5.5   \n",
       "1325 1991-06-16 20:36:53.350000+00:00    15.234    120.291   10.0  5.0   \n",
       "1326 1991-06-16 13:26:44.090000+00:00    15.030    120.223   12.6  5.0   \n",
       "1327 1991-06-16 09:51:09.020000+00:00    15.177    120.355   15.0  5.0   \n",
       "1328 1991-06-16 06:58:21.910000+00:00    15.250    120.591   12.6  5.1   \n",
       "1329 1991-06-16 04:30:03.840000+00:00    15.285    120.188   10.0  4.4   \n",
       "\n",
       "                   place  \n",
       "1315  Luzon, Philippines  \n",
       "1316  Luzon, Philippines  \n",
       "1317  Luzon, Philippines  \n",
       "1318  Luzon, Philippines  \n",
       "1319  Luzon, Philippines  \n",
       "1320  Luzon, Philippines  \n",
       "1321  Luzon, Philippines  \n",
       "1322  Luzon, Philippines  \n",
       "1323  Luzon, Philippines  \n",
       "1324  Luzon, Philippines  \n",
       "1325  Luzon, Philippines  \n",
       "1326  Luzon, Philippines  \n",
       "1327  Luzon, Philippines  \n",
       "1328  Luzon, Philippines  \n",
       "1329  Luzon, Philippines  "
      ]
     },
     "execution_count": 203,
     "metadata": {},
     "output_type": "execute_result"
    }
   ],
   "source": [
    "df.set_index('time')\n",
    "\n",
    "import pytz\n",
    "dt1 = dt.datetime(1990, 6, 1, 0, 0, 0, 0, pytz.UTC)\n",
    "print(dt1)\n",
    "dt2 = dt.datetime(1991, 6, 20, 0, 0, 0, 0, pytz.UTC)\n",
    "\n",
    "\n",
    "df1991 = df.loc[(df['time'] > dt1) & (df['time'] < dt2)]\n",
    "\n",
    "df1991.head(15)\n",
    "#df1991 = df.loc[df['time'].dt.year == 1991]"
   ]
  },
  {
   "cell_type": "code",
   "execution_count": 204,
   "metadata": {},
   "outputs": [
    {
     "data": {
      "text/plain": [
       "(array([726649., 726711., 726772., 726833., 726892., 726953., 727014.]),\n",
       " <a list of 7 Text xticklabel objects>)"
      ]
     },
     "execution_count": 204,
     "metadata": {},
     "output_type": "execute_result"
    },
    {
     "data": {
      "image/png": "[encoded data removed]",
      "text/plain": [
       "<Figure size 432x288 with 1 Axes>"
      ]
     },
     "metadata": {},
     "output_type": "display_data"
    }
   ],
   "source": [
    "plt.scatter(df1991['time'],df1991['mag'])\n",
    "plt.xticks(rotation=90)"
   ]
  },
  {
   "cell_type": "code",
   "execution_count": 152,
   "metadata": {},
   "outputs": [
    {
     "data": {
      "text/html": [
       "<div>\n",
       "<style scoped>\n",
       "    .dataframe tbody tr th:only-of-type {\n",
       "        vertical-align: middle;\n",
       "    }\n",
       "\n",
       "    .dataframe tbody tr th {\n",
       "        vertical-align: top;\n",
       "    }\n",
       "\n",
       "    .dataframe thead th {\n",
       "        text-align: right;\n",
       "    }\n",
       "</style>\n",
       "<table border=\"1\" class=\"dataframe\">\n",
       "  <thead>\n",
       "    <tr style=\"text-align: right;\">\n",
       "      <th></th>\n",
       "      <th>2.8</th>\n",
       "      <th>5.6</th>\n",
       "      <th>8.4</th>\n",
       "      <th>11.2</th>\n",
       "      <th>14</th>\n",
       "      <th>16.8</th>\n",
       "      <th>19.6</th>\n",
       "      <th>22.4</th>\n",
       "      <th>25.2</th>\n",
       "      <th>28</th>\n",
       "      <th>...</th>\n",
       "      <th>154</th>\n",
       "      <th>156.8</th>\n",
       "      <th>159.6</th>\n",
       "      <th>162.4</th>\n",
       "      <th>165.2</th>\n",
       "      <th>168</th>\n",
       "      <th>170.8</th>\n",
       "      <th>173.6</th>\n",
       "      <th>176.4</th>\n",
       "      <th>179.2</th>\n",
       "    </tr>\n",
       "  </thead>\n",
       "  <tbody>\n",
       "    <tr>\n",
       "      <th>0</th>\n",
       "      <td>0.003435</td>\n",
       "      <td>0.003435</td>\n",
       "      <td>0.003435</td>\n",
       "      <td>0.003435</td>\n",
       "      <td>0.003435</td>\n",
       "      <td>0.003435</td>\n",
       "      <td>0.003435</td>\n",
       "      <td>0.003435</td>\n",
       "      <td>0.003435</td>\n",
       "      <td>0.003435</td>\n",
       "      <td>...</td>\n",
       "      <td>0.003435</td>\n",
       "      <td>0.003435</td>\n",
       "      <td>0.003435</td>\n",
       "      <td>0.003435</td>\n",
       "      <td>0.002935</td>\n",
       "      <td>0.002265</td>\n",
       "      <td>0.002265</td>\n",
       "      <td>0.002265</td>\n",
       "      <td>0.002265</td>\n",
       "      <td>0.002265</td>\n",
       "    </tr>\n",
       "    <tr>\n",
       "      <th>1</th>\n",
       "      <td>0.003161</td>\n",
       "      <td>0.003161</td>\n",
       "      <td>0.003161</td>\n",
       "      <td>0.003161</td>\n",
       "      <td>0.003161</td>\n",
       "      <td>0.003161</td>\n",
       "      <td>0.003161</td>\n",
       "      <td>0.003161</td>\n",
       "      <td>0.003161</td>\n",
       "      <td>0.003161</td>\n",
       "      <td>...</td>\n",
       "      <td>0.003161</td>\n",
       "      <td>0.003161</td>\n",
       "      <td>0.003161</td>\n",
       "      <td>0.003161</td>\n",
       "      <td>0.002629</td>\n",
       "      <td>0.001917</td>\n",
       "      <td>0.001917</td>\n",
       "      <td>0.001917</td>\n",
       "      <td>0.001917</td>\n",
       "      <td>0.001917</td>\n",
       "    </tr>\n",
       "    <tr>\n",
       "      <th>2</th>\n",
       "      <td>0.002676</td>\n",
       "      <td>0.002676</td>\n",
       "      <td>0.002676</td>\n",
       "      <td>0.002676</td>\n",
       "      <td>0.002676</td>\n",
       "      <td>0.002809</td>\n",
       "      <td>0.002908</td>\n",
       "      <td>0.002908</td>\n",
       "      <td>0.002908</td>\n",
       "      <td>0.002908</td>\n",
       "      <td>...</td>\n",
       "      <td>0.002908</td>\n",
       "      <td>0.002908</td>\n",
       "      <td>0.002908</td>\n",
       "      <td>0.002908</td>\n",
       "      <td>0.002358</td>\n",
       "      <td>0.001623</td>\n",
       "      <td>0.001623</td>\n",
       "      <td>0.001623</td>\n",
       "      <td>0.001623</td>\n",
       "      <td>0.001623</td>\n",
       "    </tr>\n",
       "    <tr>\n",
       "      <th>3</th>\n",
       "      <td>0.002265</td>\n",
       "      <td>0.002265</td>\n",
       "      <td>0.002265</td>\n",
       "      <td>0.002265</td>\n",
       "      <td>0.002265</td>\n",
       "      <td>0.015278</td>\n",
       "      <td>0.025000</td>\n",
       "      <td>0.025000</td>\n",
       "      <td>0.025000</td>\n",
       "      <td>0.025000</td>\n",
       "      <td>...</td>\n",
       "      <td>0.002676</td>\n",
       "      <td>0.002676</td>\n",
       "      <td>0.002676</td>\n",
       "      <td>0.002676</td>\n",
       "      <td>0.002676</td>\n",
       "      <td>0.002676</td>\n",
       "      <td>0.002676</td>\n",
       "      <td>0.002676</td>\n",
       "      <td>0.002676</td>\n",
       "      <td>0.002676</td>\n",
       "    </tr>\n",
       "    <tr>\n",
       "      <th>4</th>\n",
       "      <td>0.001917</td>\n",
       "      <td>0.001917</td>\n",
       "      <td>0.001917</td>\n",
       "      <td>0.001917</td>\n",
       "      <td>0.001917</td>\n",
       "      <td>0.029438</td>\n",
       "      <td>0.050000</td>\n",
       "      <td>0.050000</td>\n",
       "      <td>0.050000</td>\n",
       "      <td>0.050000</td>\n",
       "      <td>...</td>\n",
       "      <td>0.002462</td>\n",
       "      <td>0.002462</td>\n",
       "      <td>0.002462</td>\n",
       "      <td>0.002462</td>\n",
       "      <td>0.002462</td>\n",
       "      <td>0.002462</td>\n",
       "      <td>0.002462</td>\n",
       "      <td>0.002462</td>\n",
       "      <td>0.002462</td>\n",
       "      <td>0.002462</td>\n",
       "    </tr>\n",
       "  </tbody>\n",
       "</table>\n",
       "<p>5 rows × 64 columns</p>\n",
       "</div>"
      ],
      "text/plain": [
       "        2.8       5.6       8.4      11.2        14      16.8      19.6  \\\n",
       "0  0.003435  0.003435  0.003435  0.003435  0.003435  0.003435  0.003435   \n",
       "1  0.003161  0.003161  0.003161  0.003161  0.003161  0.003161  0.003161   \n",
       "2  0.002676  0.002676  0.002676  0.002676  0.002676  0.002809  0.002908   \n",
       "3  0.002265  0.002265  0.002265  0.002265  0.002265  0.015278  0.025000   \n",
       "4  0.001917  0.001917  0.001917  0.001917  0.001917  0.029438  0.050000   \n",
       "\n",
       "       22.4      25.2        28  ...       154     156.8     159.6     162.4  \\\n",
       "0  0.003435  0.003435  0.003435  ...  0.003435  0.003435  0.003435  0.003435   \n",
       "1  0.003161  0.003161  0.003161  ...  0.003161  0.003161  0.003161  0.003161   \n",
       "2  0.002908  0.002908  0.002908  ...  0.002908  0.002908  0.002908  0.002908   \n",
       "3  0.025000  0.025000  0.025000  ...  0.002676  0.002676  0.002676  0.002676   \n",
       "4  0.050000  0.050000  0.050000  ...  0.002462  0.002462  0.002462  0.002462   \n",
       "\n",
       "      165.2       168     170.8     173.6     176.4     179.2  \n",
       "0  0.002935  0.002265  0.002265  0.002265  0.002265  0.002265  \n",
       "1  0.002629  0.001917  0.001917  0.001917  0.001917  0.001917  \n",
       "2  0.002358  0.001623  0.001623  0.001623  0.001623  0.001623  \n",
       "3  0.002676  0.002676  0.002676  0.002676  0.002676  0.002676  \n",
       "4  0.002462  0.002462  0.002462  0.002462  0.002462  0.002462  \n",
       "\n",
       "[5 rows x 64 columns]"
      ]
     },
     "execution_count": 152,
     "metadata": {},
     "output_type": "execute_result"
    }
   ],
   "source": [
    "df1 = pd.read_csv('VolcanicForcing.csv')\n",
    "df1.head()"
   ]
  },
  {
   "cell_type": "code",
   "execution_count": 187,
   "metadata": {},
   "outputs": [],
   "source": [
    "df1['year'] = df1.index/12 + 1890\n",
    "df1['year'] = df1['year'].astype(int)\n",
    "df1['month'] = df1.index % 12 + 1\n",
    "\n",
    "#df1['date'] = str(df1['year'])+ str(df1['month'])\n",
    "df1['date'] = pd.to_datetime(df1['year'].astype(str) + df1['month'].astype(str), format='%Y%m')\n",
    "\n",
    "df1.head(15)\n",
    "df1['total'] = df1.loc[:, '2.8':'179.2'].sum(1)\n",
    "\n"
   ]
  },
  {
   "cell_type": "code",
   "execution_count": 208,
   "metadata": {},
   "outputs": [],
   "source": [
    "rand = df1.query('year >1989 and year < 1995')"
   ]
  },
  {
   "cell_type": "code",
   "execution_count": 209,
   "metadata": {},
   "outputs": [
    {
     "data": {
      "text/plain": [
       "(array([686291., 693596., 700900., 708205., 715510., 722815., 730120.,\n",
       "        737425.]), <a list of 8 Text xticklabel objects>)"
      ]
     },
     "execution_count": 209,
     "metadata": {},
     "output_type": "execute_result"
    },
    {
     "data": {
      "image/png": "[encoded data removed]",
      "text/plain": [
       "<Figure size 432x288 with 1 Axes>"
      ]
     },
     "metadata": {},
     "output_type": "display_data"
    }
   ],
   "source": [
    "plt.plot(df1['date'],df1['total'])\n",
    "plt.xticks(rotation=90)"
   ]
  },
  {
   "cell_type": "code",
   "execution_count": 210,
   "metadata": {},
   "outputs": [
    {
     "data": {
      "text/plain": [
       "(array([726103., 726468., 726833., 727198., 727564., 727929., 728294.]),\n",
       " <a list of 7 Text xticklabel objects>)"
      ]
     },
     "execution_count": 210,
     "metadata": {},
     "output_type": "execute_result"
    },
    {
     "data": {
      "image/png": "[encoded data removed]",
      "text/plain": [
       "<Figure size 432x288 with 1 Axes>"
      ]
     },
     "metadata": {},
     "output_type": "display_data"
    }
   ],
   "source": [
    "plt.plot(rand['date'],rand['total'])\n",
    "plt.xticks(rotation = 90)"
   ]
  },
  {
   "cell_type": "code",
   "execution_count": 225,
   "metadata": {},
   "outputs": [
    {
     "data": {
      "text/plain": [
       "(array([727198., 727258., 727319., 727380., 727442., 727503.]),\n",
       " <a list of 6 Text xticklabel objects>)"
      ]
     },
     "execution_count": 225,
     "metadata": {},
     "output_type": "execute_result"
    },
    {
     "data": {
      "image/png": "[encoded data removed]",
      "text/plain": [
       "<Figure size 432x288 with 1 Axes>"
      ]
     },
     "metadata": {},
     "output_type": "display_data"
    }
   ],
   "source": [
    "rand1 = df1.query('year > 1991 and year < 1993')\n",
    "plt.plot(rand1['date'],rand1['total'])\n",
    "plt.xticks(rotation = 90)"
   ]
  },
  {
   "cell_type": "markdown",
   "metadata": {},
   "source": [
    "DESCRIPTION:  \n",
    "Monthly volcanic forcing data for climate modeling from 1890-1999. \n",
    "Aerosol from each event is individually evolved spatially at monthly\n",
    "resolution.  Latitude bands are 2.8 degrees. The peak aerosol optical \n",
    "depth for each eruption is scaled from estimates of peak aerosol\n",
    "loading [Stothers 1996; Hofmann and Rosen 1983; Stenchikov\n",
    "et al., 1998] assuming spherical sulfuric acid droplets\n",
    "with a composition of 75% H2SO4 and 25% H2O and a\n",
    "fixed aerosol size distribution (using reff = 0.42 micron\n",
    "[Ammann et al., 2003], a mid-sized aerosol comparable to\n",
    "an average Pinatubo aerosol, Stenchikov et al. [1998]; see\n",
    "also Stothers [2001b] for estimates of reff for individual\n",
    "events). Using the month of the eruption and an estimated\n",
    "peak amount of sulfate aerosol reached through linear\n",
    "buildup after 4 months, aerosol from tropical eruptions is\n",
    "transported in the lower stratosphere from the tropics\n",
    "(25N�25S) into the midlatitudes of the respective winter\n",
    "hemisphere, where it subsequently decays during the summer\n",
    "season. Over the poles, aerosol is rapidly removed\n",
    "during winter, but is advected from midlatitudes in spring\n",
    "and summer after the breakdown of the polar vortex. The\n",
    "e-folding time for decay is set to 12 months in the tropics.\n",
    "The aerosol from high-latitude eruptions is restricted to\n",
    "remain poleward of 30 degrees of the appropriate hemisphere. "
   ]
  },
  {
   "cell_type": "code",
   "execution_count": 226,
   "metadata": {},
   "outputs": [
    {
     "data": {
      "image/png": "[encoded data removed]",
      "text/plain": [
       "<Figure size 432x288 with 1 Axes>"
      ]
     },
     "metadata": {},
     "output_type": "display_data"
    }
   ],
   "source": [
    "plt.figure(1)\n",
    "plt.plot(rand['date'],rand['95.2'])\n",
    "plt.plot(rand['date'],rand['179.2'])\n",
    "plt.plot(rand['date'],rand['2.8'])\n",
    "plt.show()"
   ]
  },
  {
   "cell_type": "code",
   "execution_count": null,
   "metadata": {},
   "outputs": [],
   "source": []
  }
 ],
 "metadata": {
  "kernelspec": {
   "display_name": "Python 3",
   "language": "python",
   "name": "python3"
  },
  "language_info": {
   "codemirror_mode": {
    "name": "ipython",
    "version": 3
   },
   "file_extension": ".py",
   "mimetype": "text/x-python",
   "name": "python",
   "nbconvert_exporter": "python",
   "pygments_lexer": "ipython3",
   "version": "3.6.8"
  }
 },
 "nbformat": 4,
 "nbformat_minor": 2
}
